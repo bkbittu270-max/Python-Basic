{
  "nbformat": 4,
  "nbformat_minor": 0,
  "metadata": {
    "colab": {
      "provenance": []
    },
    "kernelspec": {
      "name": "python3",
      "display_name": "Python 3"
    },
    "language_info": {
      "name": "python"
    }
  },
  "cells": [
    {
      "cell_type": "markdown",
      "source": [
        "# Python Basic"
      ],
      "metadata": {
        "id": "JcGl5IluB9JM"
      }
    },
    {
      "cell_type": "markdown",
      "source": [
        "1.What is Python, and why is it popular?\n",
        "\n",
        "  - Python is a high-level, versatile, and easy-to-learn programming language known for its readability and extensive libraries.\n",
        "\n",
        "2.What is an interpreter in Python?\n",
        "\n",
        "  - A program that executes Python code directly, without needing to compile it into machine code first.\n",
        "\n",
        "3.What are pre-defined keywords in Python?\n",
        "\n",
        "  - Predefined keywords in Python are reserved words that have special meanings and functionalities within the language.\n",
        "\n",
        "4.Can keywords be used as variable names?\n",
        "\n",
        "  - No, keywords cannot be used as variable names.\n",
        "\n",
        "5.What is mutability in Python?\n",
        "\n",
        "  - Mutability in Python refers to the ability of an object to be modified after it has been created.\n",
        "\n",
        "6.Why are lists mutable, but tuples are immutable?\n",
        "\n",
        "  - Tuples and lists are the same in every way except two: tuples use parentheses instead of square brackets, and the items in tuples cannot be modified.\n",
        "\n",
        "7.What is the difference between “==” and “is” operators in Python?\n",
        "\n",
        "  - In Python, both == and is are used for comparison, but they serve distinct purposes.\n",
        "\n",
        "8.What are logical operators in Python?\n",
        "\n",
        "  - Logical operators in Python are used to combine or modify conditional statements and Boolean values (True or False).\n",
        "\n",
        "9.What is type casting in Python?\n",
        "\n",
        "  - Type casting in Python, also known as type conversion, is the process of converting a value from one data type to another.\n",
        "\n",
        "10.What is the difference between implicit and explicit type casting?\n",
        "\n",
        "  - Implicit casting is done automatically by the compiler when it's safe and convenient, while explicit casting requires the programmer to specify the conversion using a cast operator.\n",
        "\n",
        "11.What is the purpose of conditional statements in Python?\n",
        "\n",
        "  - The purpose of conditional statements in Python is to enable decision-making within a program, allowing different blocks of code to be executed based on whether certain conditions are met.\n",
        "\n",
        "12.How does the elif statement work?\n",
        "\n",
        "  - The “elif” keyword in Python, stands for “else if”. It can be used in conditional statements to check for multiple conditions.\n",
        "\n",
        "13.What is the difference between for and while loops?\n",
        "\n",
        "  - The main difference between for and while loops lies in their structure and typical usage.\n",
        "\n",
        "14.Describe a scenario where a while loop is more suitable than a for loop?\n",
        "\n",
        "  - In programming, for loops are best used when you know the number of iterations ahead of time, whereas a while loop is best used when you don't know the number of iterations in advance."
      ],
      "metadata": {
        "id": "NpwBit0mfXAk"
      }
    },
    {
      "cell_type": "code",
      "source": [
        "# Write a Python program to print \"Hello, World\"\n",
        "...\n",
        "print(\"Hello, World\")\n",
        "..."
      ],
      "metadata": {
        "colab": {
          "base_uri": "https://localhost:8080/"
        },
        "id": "L8Fjm6ItXyHk",
        "outputId": "89e48b5f-68d7-4fa8-b833-f083a98a34db"
      },
      "execution_count": 4,
      "outputs": [
        {
          "output_type": "stream",
          "name": "stdout",
          "text": [
            "Hello, World\n"
          ]
        }
      ]
    },
    {
      "cell_type": "code",
      "source": [
        "# Write a Python program that displays your name and age?\n",
        "...\n",
        "name = \"Anup Karmakar\"\n",
        "age = \"29\"\n",
        "print(\"My name is Anup Karmakar and I am 29 Years old.\")\n",
        "..."
      ],
      "metadata": {
        "colab": {
          "base_uri": "https://localhost:8080/"
        },
        "id": "t_gfoqJpYr8d",
        "outputId": "33714ed5-afcc-4ab3-f3c5-2f2252f6a07e"
      },
      "execution_count": 5,
      "outputs": [
        {
          "output_type": "stream",
          "name": "stdout",
          "text": [
            "My name is Anup Karmakar and I am 29 Years old.\n"
          ]
        }
      ]
    },
    {
      "cell_type": "code",
      "source": [
        "# Write code to print all the pre-defined keywords in Python using the keyword library?\n",
        "...\n",
        "import keyword\n",
        "print(keyword.kwlist)\n",
        "..."
      ],
      "metadata": {
        "colab": {
          "base_uri": "https://localhost:8080/"
        },
        "id": "vqGwX1pfZhdc",
        "outputId": "deeb4af0-50da-4da1-8154-26be634870a3"
      },
      "execution_count": 6,
      "outputs": [
        {
          "output_type": "stream",
          "name": "stdout",
          "text": [
            "['False', 'None', 'True', 'and', 'as', 'assert', 'async', 'await', 'break', 'class', 'continue', 'def', 'del', 'elif', 'else', 'except', 'finally', 'for', 'from', 'global', 'if', 'import', 'in', 'is', 'lambda', 'nonlocal', 'not', 'or', 'pass', 'raise', 'return', 'try', 'while', 'with', 'yield']\n"
          ]
        }
      ]
    },
    {
      "cell_type": "code",
      "source": [
        "# Write a program that checks if a given word is a Python keyword?\n",
        "...\n",
        "import keyword\n",
        "\n",
        "def is_python_keyword(word):\n",
        "    return keyword.iskeyword(word)\n",
        "\n",
        "# Test the function\n",
        "word = input(\"Enter a word to check if it's a Python keyword: \")\n",
        "if is_python_keyword(word):\n",
        "    print(f\"'{word}' is a Python keyword.\")\n",
        "else:\n",
        "    print(f\"'{word}' is not a Python keyword.\")\n",
        "...\n"
      ],
      "metadata": {
        "colab": {
          "base_uri": "https://localhost:8080/"
        },
        "id": "k77-uKH5Z_bQ",
        "outputId": "acbcf78a-dc54-4b81-aa65-6f14d6fdb6f6"
      },
      "execution_count": 7,
      "outputs": [
        {
          "output_type": "stream",
          "name": "stdout",
          "text": [
            "Enter a word to check if it's a Python keyword: for\n",
            "'for' is a Python keyword.\n"
          ]
        }
      ]
    },
    {
      "cell_type": "code",
      "source": [
        "# Create a list and tuple in Python, and demonstrate how attempting to change an element works differently for each?\n",
        "...\n",
        "# Creating a list and a tuple\n",
        "my_list = [1, 2, 3, 4]\n",
        "my_tuple = (1, 2, 3, 4)\n",
        "\n",
        "# Attempting to change an element in the list (mutable)\n",
        "print(\"Original List:\", my_list)\n",
        "my_list[0] = 10  # This works because lists are mutable\n",
        "print(\"List after modification:\", my_list)\n",
        "\n",
        "# Attempting to change an element in the tuple (immutable)\n",
        "print(\"\\nOriginal Tuple:\", my_tuple)\n",
        "try:\n",
        "    my_tuple[0] = 10  # This will raise an error because tuples are immutable\n",
        "except TypeError as e:\n",
        "    print(f\"Error while modifying tuple: {e}\")\n",
        "...\n"
      ],
      "metadata": {
        "colab": {
          "base_uri": "https://localhost:8080/"
        },
        "id": "CGSeEZo0cYnH",
        "outputId": "418b5934-a45b-4553-bf78-6a84b935462d"
      },
      "execution_count": 12,
      "outputs": [
        {
          "output_type": "stream",
          "name": "stdout",
          "text": [
            "Original List: [1, 2, 3, 4]\n",
            "List after modification: [10, 2, 3, 4]\n",
            "\n",
            "Original Tuple: (1, 2, 3, 4)\n",
            "Error while modifying tuple: 'tuple' object does not support item assignment\n"
          ]
        }
      ]
    },
    {
      "cell_type": "code",
      "source": [
        "# Write a function to demonstrate the behavior of mutable and immutable arguments?\n",
        "...\n",
        "def demonstrate_mutability(immutable_arg, mutable_arg):\n",
        "    # Try modifying the immutable argument\n",
        "    print(\"Before modification (immutable):\", immutable_arg)\n",
        "    immutable_arg += 10  # This creates a new object, doesn't modify the original one.\n",
        "    print(\"After modification (immutable):\", immutable_arg)\n",
        "\n",
        "    # Try modifying the mutable argument\n",
        "    print(\"Before modification (mutable):\", mutable_arg)\n",
        "    mutable_arg.append(4)  # Modifies the original list in place.\n",
        "    print(\"After modification (mutable):\", mutable_arg)\n",
        "\n",
        "# Testing the function with an immutable argument (integer) and a mutable argument (list)\n",
        "num = 5\n",
        "lst = [1, 2, 3]\n",
        "\n",
        "demonstrate_mutability(num, lst)\n",
        "\n",
        "# Check the values after calling the function\n",
        "print(\"Outside function (immutable):\", num)  # Expect the original value (5)\n",
        "print(\"Outside function (mutable):\", lst)  # Expect the list to be modified [1, 2, 3, 4]\n",
        "...\n"
      ],
      "metadata": {
        "colab": {
          "base_uri": "https://localhost:8080/"
        },
        "id": "gkf_LcqndJ4h",
        "outputId": "53dd0255-8886-49c8-b92b-60adc6438eb6"
      },
      "execution_count": 9,
      "outputs": [
        {
          "output_type": "stream",
          "name": "stdout",
          "text": [
            "Before modification (immutable): 5\n",
            "After modification (immutable): 15\n",
            "Before modification (mutable): [1, 2, 3]\n",
            "After modification (mutable): [1, 2, 3, 4]\n",
            "Outside function (immutable): 5\n",
            "Outside function (mutable): [1, 2, 3, 4]\n"
          ]
        }
      ]
    },
    {
      "cell_type": "code",
      "source": [
        "# Write a program that performs basic arithmetic operations on two user-input numbers?\n",
        "...\n",
        "def basic_calculator():\n",
        "    \"\"\"\n",
        "    This function takes two numbers as input from the user and performs\n",
        "    basic arithmetic operations (addition, subtraction, multiplication,\n",
        "    and division) on them. It then prints the results of each operation.\n",
        "    \"\"\"\n",
        "\n",
        "    try:\n",
        "        num1 = float(input(\"Enter the first number: \"))\n",
        "        num2 = float(input(\"Enter the second number: \"))\n",
        "    except ValueError:\n",
        "        print(\"Invalid input. Please enter numeric values.\")\n",
        "        return\n",
        "\n",
        "    print(\"Addition:\", num1 + num2)\n",
        "    print(\"Subtraction:\", num1 - num2)\n",
        "    print(\"Multiplication:\", num1 * num2)\n",
        "\n",
        "    if num2 != 0:\n",
        "        print(\"Division:\", num1 / num2)\n",
        "    else:\n",
        "        print(\"Division by zero is not allowed.\")\n",
        "\n",
        "    print(\"Floor Division:\", num1 // num2)\n",
        "    print(\"Modulus:\", num1 % num2)\n",
        "    print(\"Exponentiation:\", num1 ** num2)\n",
        "\n",
        "\n",
        "if __name__ == \"__main__\":\n",
        "    basic_calculator()\n",
        "..."
      ],
      "metadata": {
        "colab": {
          "base_uri": "https://localhost:8080/"
        },
        "id": "ON1Gz-RXfLIv",
        "outputId": "1e130781-09b7-49e1-e35b-982a1ef3b7ae"
      },
      "execution_count": 10,
      "outputs": [
        {
          "output_type": "stream",
          "name": "stdout",
          "text": [
            "Enter the first number: 6\n",
            "Enter the second number: 4\n",
            "Addition: 10.0\n",
            "Subtraction: 2.0\n",
            "Multiplication: 24.0\n",
            "Division: 1.5\n",
            "Floor Division: 1.0\n",
            "Modulus: 2.0\n",
            "Exponentiation: 1296.0\n"
          ]
        }
      ]
    },
    {
      "cell_type": "code",
      "source": [
        "# Write a program to demonstrate the use of logical operators?\n",
        "...\n",
        "# Define some variables\n",
        "a = True\n",
        "b = False\n",
        "x = 10\n",
        "y = 20\n",
        "\n",
        "# Demonstrating the 'and' operator\n",
        "print(\"Using 'and' operator:\")\n",
        "print(f\"a and b = {a and b}\")  # False, because b is False\n",
        "print(f\"x < y and y > x = {x < y and y > x}\")  # True, both conditions are True\n",
        "\n",
        "# Demonstrating the 'or' operator\n",
        "print(\"\\nUsing 'or' operator:\")\n",
        "print(f\"a or b = {a or b}\")  # True, because a is True\n",
        "print(f\"x > y or y > x = {x > y or y > x}\")  # True, because y > x\n",
        "\n",
        "# Demonstrating the 'not' operator\n",
        "print(\"\\nUsing 'not' operator:\")\n",
        "print(f\"not a = {not a}\")  # False, because a is True\n",
        "print(f\"not (x < y) = {not (x < y)}\")  # False, because x < y is True\n",
        "...\n"
      ],
      "metadata": {
        "colab": {
          "base_uri": "https://localhost:8080/"
        },
        "id": "JC9e36YvisAV",
        "outputId": "48b5a9ee-1e7e-4541-b2f4-980854c05c49"
      },
      "execution_count": 11,
      "outputs": [
        {
          "output_type": "stream",
          "name": "stdout",
          "text": [
            "Using 'and' operator:\n",
            "a and b = False\n",
            "x < y and y > x = True\n",
            "\n",
            "Using 'or' operator:\n",
            "a or b = True\n",
            "x > y or y > x = True\n",
            "\n",
            "Using 'not' operator:\n",
            "not a = False\n",
            "not (x < y) = False\n"
          ]
        }
      ]
    },
    {
      "cell_type": "code",
      "source": [
        "# Write a Python program to convert user input from string to integer, float, and boolean types?\n",
        "...\n",
        "# Function to convert and display types\n",
        "def convert_input():\n",
        "    # Get user input\n",
        "    user_input = input(\"Enter something: \")\n",
        "\n",
        "    # Convert to integer\n",
        "    try:\n",
        "        int_value = int(user_input)\n",
        "        print(f\"Converted to Integer: {int_value}\")\n",
        "    except ValueError:\n",
        "        print(\"Couldn't convert to Integer.\")\n",
        "\n",
        "    # Convert to float\n",
        "    try:\n",
        "        float_value = float(user_input)\n",
        "        print(f\"Converted to Float: {float_value}\")\n",
        "    except ValueError:\n",
        "        print(\"Couldn't convert to Float.\")\n",
        "\n",
        "    # Convert to boolean\n",
        "    # Note: Empty strings are False, everything else is True\n",
        "    if user_input.lower() in ['true', '1', 'yes']:\n",
        "        bool_value = True\n",
        "    elif user_input.lower() in ['false', '0', 'no']:\n",
        "        bool_value = False\n",
        "    else:\n",
        "        bool_value = bool(user_input)  # Non-empty strings are True\n",
        "    print(f\"Converted to Boolean: {bool_value}\")\n",
        "\n",
        "# Call the function\n",
        "convert_input()\n",
        "..."
      ],
      "metadata": {
        "colab": {
          "base_uri": "https://localhost:8080/"
        },
        "id": "OuUdl0t6jGLR",
        "outputId": "36d3a8dc-4706-4daa-e6cf-1b0e5978732d"
      },
      "execution_count": 13,
      "outputs": [
        {
          "output_type": "stream",
          "name": "stdout",
          "text": [
            "Enter something: 46\n",
            "Converted to Integer: 46\n",
            "Converted to Float: 46.0\n",
            "Converted to Boolean: True\n"
          ]
        }
      ]
    },
    {
      "cell_type": "code",
      "source": [
        "# Write code to demonstrate type casting with list elements?\n",
        "...\n",
        "# Original list with mixed types\n",
        "my_list = ['1', 2, 3.0, '4.5', True]\n",
        "\n",
        "# Displaying the original list\n",
        "print(\"Original List:\", my_list)\n",
        "\n",
        "# Type casting elements of the list\n",
        "# Converting all elements to strings\n",
        "list_as_strings = [str(element) for element in my_list]\n",
        "print(\"List with elements as strings:\", list_as_strings)\n",
        "\n",
        "# Converting all elements to integers, where possible\n",
        "# Elements that can't be converted to int will raise an error\n",
        "list_as_integers = []\n",
        "for element in my_list:\n",
        "    try:\n",
        "        list_as_integers.append(int(float(element)))  # First float to handle float and string conversion\n",
        "    except ValueError:\n",
        "        list_as_integers.append(None)  # Non-convertible values will be set as None\n",
        "print(\"List with elements as integers:\", list_as_integers)\n",
        "\n",
        "# Converting all elements to floats\n",
        "list_as_floats = [float(element) for element in my_list]\n",
        "print(\"List with elements as floats:\", list_as_floats)\n",
        "\n",
        "# Converting all elements to boolean (using bool())\n",
        "list_as_booleans = [bool(element) for element in my_list]\n",
        "print(\"List with elements as booleans:\", list_as_booleans)\n",
        "...\n"
      ],
      "metadata": {
        "colab": {
          "base_uri": "https://localhost:8080/"
        },
        "id": "mms5k7k_kznr",
        "outputId": "39c20752-85f4-4590-a87d-3a4306d6923c"
      },
      "execution_count": 14,
      "outputs": [
        {
          "output_type": "stream",
          "name": "stdout",
          "text": [
            "Original List: ['1', 2, 3.0, '4.5', True]\n",
            "List with elements as strings: ['1', '2', '3.0', '4.5', 'True']\n",
            "List with elements as integers: [1, 2, 3, 4, 1]\n",
            "List with elements as floats: [1.0, 2.0, 3.0, 4.5, 1.0]\n",
            "List with elements as booleans: [True, True, True, True, True]\n"
          ]
        }
      ]
    },
    {
      "cell_type": "code",
      "source": [
        "# Write a program that checks if a number is positive, negative, or zero?\n",
        "...\n",
        "def check_number(number):\n",
        "  \"\"\"\n",
        "  This function checks if a number is positive, negative, or zero.\n",
        "\n",
        "  Args:\n",
        "      number: The number to be checked.\n",
        "\n",
        "  Returns:\n",
        "      A string indicating whether the number is positive, negative, or zero.\n",
        "  \"\"\"\n",
        "  if number > 0:\n",
        "    return \"Positive\"\n",
        "  elif number < 0:\n",
        "    return \"Negative\"\n",
        "  else:\n",
        "    return \"Zero\"\n",
        "\n",
        "# Example usage:\n",
        "num = 10\n",
        "result = check_number(num)\n",
        "print(f\"The number {num} is {result}\")\n",
        "\n",
        "num = -5\n",
        "result = check_number(num)\n",
        "print(f\"The number {num} is {result}\")\n",
        "\n",
        "num = 0\n",
        "result = check_number(num)\n",
        "print(f\"The number {num} is {result}\")\n",
        "...\n"
      ],
      "metadata": {
        "colab": {
          "base_uri": "https://localhost:8080/"
        },
        "id": "VdS5HS3RlWel",
        "outputId": "4dbc91dd-1d07-4643-d30d-e84e99d30c2a"
      },
      "execution_count": 15,
      "outputs": [
        {
          "output_type": "stream",
          "name": "stdout",
          "text": [
            "The number 10 is Positive\n",
            "The number -5 is Negative\n",
            "The number 0 is Zero\n"
          ]
        }
      ]
    },
    {
      "cell_type": "code",
      "source": [
        "# Write a for loop to print numbers from 1 to 10?\n",
        "...\n",
        "for i in range(1, 11):\n",
        "    print(i)\n",
        "..."
      ],
      "metadata": {
        "colab": {
          "base_uri": "https://localhost:8080/"
        },
        "id": "dgpggYMUmkQc",
        "outputId": "fd50e20e-67f5-4ec0-bba0-b2d87e7d6358"
      },
      "execution_count": 16,
      "outputs": [
        {
          "output_type": "stream",
          "name": "stdout",
          "text": [
            "1\n",
            "2\n",
            "3\n",
            "4\n",
            "5\n",
            "6\n",
            "7\n",
            "8\n",
            "9\n",
            "10\n"
          ]
        }
      ]
    },
    {
      "cell_type": "code",
      "source": [
        "# Write a Python program to find the sum of all even numbers between 1 and 50?\n",
        "...\n",
        "# Initialize sum variable\n",
        "sum_of_evens = 0\n",
        "\n",
        "# Loop through numbers from 1 to 50\n",
        "for number in range(1, 51):\n",
        "    if number % 2 == 0:  # Check if the number is even\n",
        "        sum_of_evens += number\n",
        "\n",
        "# Print the result\n",
        "print(\"Sum of all even numbers between 1 and 50:\", sum_of_evens)\n",
        "..."
      ],
      "metadata": {
        "colab": {
          "base_uri": "https://localhost:8080/"
        },
        "id": "Ld8GCWczm45J",
        "outputId": "77479bf1-4aa9-46a8-c378-fe3e1a9628fb"
      },
      "execution_count": 17,
      "outputs": [
        {
          "output_type": "stream",
          "name": "stdout",
          "text": [
            "Sum of all even numbers between 1 and 50: 650\n"
          ]
        }
      ]
    },
    {
      "cell_type": "code",
      "source": [
        "# Write a program to reverse a string using a while loop?\n",
        "...\n",
        "# Function to reverse a string using a while loop\n",
        "def reverse_string(input_string):\n",
        "    reversed_string = \"\"\n",
        "    index = len(input_string) - 1  # Start from the last character\n",
        "\n",
        "    while index >= 0:\n",
        "        reversed_string += input_string[index]  # Add current character to result\n",
        "        index -= 1  # Move to the previous character\n",
        "\n",
        "    return reversed_string\n",
        "\n",
        "# Example usage\n",
        "input_str = \"Hello, World!\"\n",
        "print(\"Original String:\", input_str)\n",
        "print(\"Reversed String:\", reverse_string(input_str))\n",
        "..."
      ],
      "metadata": {
        "colab": {
          "base_uri": "https://localhost:8080/"
        },
        "id": "epSlzav2neSq",
        "outputId": "843002da-3879-4b7b-e23d-720360bf119e"
      },
      "execution_count": 18,
      "outputs": [
        {
          "output_type": "stream",
          "name": "stdout",
          "text": [
            "Original String: Hello, World!\n",
            "Reversed String: !dlroW ,olleH\n"
          ]
        }
      ]
    },
    {
      "cell_type": "code",
      "source": [
        "# Write a Python program to calculate the factorial of a number provided by the user using a while loop?\n",
        "...\n",
        "# Function to calculate factorial using a while loop\n",
        "def calculate_factorial(num):\n",
        "    # Initialize the factorial result\n",
        "    factorial = 1\n",
        "\n",
        "    # Ensure the number is non-negative\n",
        "    if num < 0:\n",
        "        return \"Factorial is not defined for negative numbers\"\n",
        "\n",
        "    # Use a while loop to calculate the factorial\n",
        "    while num > 1:\n",
        "        factorial *= num\n",
        "        num -= 1\n",
        "\n",
        "    return factorial\n",
        "\n",
        "# Get user input\n",
        "number = int(input(\"Enter a number to calculate its factorial: \"))\n",
        "\n",
        "# Call the function and display the result\n",
        "result = calculate_factorial(number)\n",
        "print(f\"The factorial of {number} is {result}\")\n",
        "..."
      ],
      "metadata": {
        "colab": {
          "base_uri": "https://localhost:8080/"
        },
        "id": "EHTtkZ5Pn6En",
        "outputId": "2b784564-afba-42ff-decf-eb0d21349483"
      },
      "execution_count": 19,
      "outputs": [
        {
          "output_type": "stream",
          "name": "stdout",
          "text": [
            "Enter a number to calculate its factorial: 3\n",
            "The factorial of 3 is 6\n"
          ]
        }
      ]
    }
  ]
}